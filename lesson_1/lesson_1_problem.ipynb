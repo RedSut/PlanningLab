{
 "cells": [
  {
   "cell_type": "markdown",
   "metadata": {},
   "source": [
    "# Planning-Lab Lesson 1: Search Strategies\n",
    "\n",
    "In this first lesson we will work both on Search Strategies. \n",
    "\n",
    "### Maze Environments\n",
    "The environments used is **SmallMaze** (visible in the figure).\n",
    "\n",
    "<img src=\"images/maze.png\" width=\"300\">\n",
    "\n",
    "The agent starts in cell $(0, 2)$ and has to reach the treasure in $(4, 3)$.\n",
    "\n",
    "In order to use the environment we need first to import the packages of OpenAI Gym. Notice that due to the structure of this repository, we need to add the parent directory to the path"
   ]
  },
  {
   "cell_type": "code",
   "execution_count": 1,
   "metadata": {},
   "outputs": [],
   "source": [
    "import os, sys, time, math\n",
    "\n",
    "module_path = os.path.abspath(os.path.join('../tools'))\n",
    "if module_path not in sys.path:\n",
    "    sys.path.append(module_path)\n",
    "\n",
    "from utils.ai_lab_functions import *\n",
    "import gym, envs"
   ]
  },
  {
   "cell_type": "markdown",
   "metadata": {},
   "source": [
    "# Uninformed search\n",
    "### Assignment 1: Breadth-First Search (BFS)\n",
    "\n",
    "Your first assignment is to implement the BFS algorithm on SmallMaze. In particular, you should implement both *tree search* and *graph search* versions of BFS that the generic bfs will call. \n",
    "\n",
    "The results returned by your **BFS** must be in the following form (path, time_cost, space_cost), more in detail:\n",
    "\n",
    "- **path** - a tuple of state identifiers forming a path from the start state to the goal state. None if no solution is found.\n",
    "- **time_cost** - the number of nodes checked during the exploration.\n",
    "- **space_cost** - the maximum number of nodes in memory simultaneously.\n",
    "\n",
    "**For the time_cost, we consider a node checked after its generation!**\n",
    "\n",
    "After the correctness of your implementations has been assessed, you can run the algorithms on the **SmallMaze** environment.\n",
    "\n",
    "Functions to implement:\n",
    "\n",
    "- BFS_TreeSearch(problem)\n",
    "- BFS_GraphSearch(problem)\n",
    "\n",
    "Function **build_path(node)** can be used to return a tuple of states from the root node (excluded) to another node by following parent links.\n",
    "\n",
    "Here is the pseudo-code from the book **Artificial Intelligence: A Modern Approach** for *Graph Search* and *Tree Search*:\n",
    "\n",
    "<img src=\"images/tree-graph-search.png\" width=\"600\">\n",
    "\n",
    "Here is the pseudo-code from the book **Artificial Intelligence: A Modern Approach** for the *BFS* algorithm, note that it refers to the implementation of the *Graph Search Version*:\n",
    "\n",
    "<img src=\"images/BFS2.png\" width=\"600\">"
   ]
  },
  {
   "cell_type": "markdown",
   "metadata": {},
   "source": [
    "**Here's an implementation of the BFS algorithm in its Tree Search version:**"
   ]
  },
  {
   "cell_type": "code",
   "execution_count": 2,
   "metadata": {},
   "outputs": [],
   "source": [
    "def BFS_TreeSearch(problem):\n",
    "    \"\"\"\n",
    "    Tree Search BFS\n",
    "    \n",
    "    Args:\n",
    "        problem: OpenAI Gym environment\n",
    "        \n",
    "    Returns:\n",
    "        (path, time_cost, space_cost): solution as a path and stats.\n",
    "    \"\"\"\n",
    "    \n",
    "    node = Node(problem.startstate, None)\n",
    "    time_cost = 1\n",
    "    space_cost = 1\n",
    "    \n",
    "    if node.state == problem.goalstate:\n",
    "        return build_path(node), time_cost, space_cost\n",
    "    \n",
    "    frontier = NodeQueue()\n",
    "    frontier.add(node)    \n",
    "    \n",
    "    while not frontier.is_empty():\n",
    "        node = frontier.remove()\n",
    "        \n",
    "        for action in range(problem.action_space.n):\n",
    "            \n",
    "            child = Node(problem.sample(node.state, action), node)\n",
    "            time_cost += 1\n",
    "            \n",
    "            if problem.goalstate == child.state: \n",
    "                return build_path(child), time_cost, space_cost\n",
    "            \n",
    "            frontier.add(child)\n",
    "             \n",
    "        space_cost = max(space_cost, len(frontier))  \n",
    "\n",
    "    return build_path(node), time_cost, space_cost"
   ]
  },
  {
   "cell_type": "markdown",
   "metadata": {},
   "source": [
    "**Now you can implement the same BFS algorithm in the Graph Search version:**"
   ]
  },
  {
   "cell_type": "code",
   "execution_count": 3,
   "metadata": {},
   "outputs": [],
   "source": [
    "def BFS_GraphSearch(problem):\n",
    "    \"\"\"\n",
    "    Graph Search BFS\n",
    "    \n",
    "    Args:\n",
    "        problem: OpenAI Gym environment\n",
    "        \n",
    "    Returns:\n",
    "        (path, time_cost, space_cost): solution as a path and stats.\n",
    "    \"\"\"\n",
    "    \n",
    "    node = Node(problem.startstate, None)\n",
    "    time_cost = 1\n",
    "    space_cost = 1\n",
    "    #\n",
    "    # YOUR CODE HERE ...\n",
    "    #\n",
    "    return build_path(node), time_cost, space_cost       "
   ]
  },
  {
   "cell_type": "markdown",
   "metadata": {},
   "source": [
    "**The following code calls your graph search version and the tree search version of BFS and checks the results:**"
   ]
  },
  {
   "cell_type": "code",
   "execution_count": 4,
   "metadata": {
    "scrolled": false
   },
   "outputs": [
    {
     "name": "stdout",
     "output_type": "stream",
     "text": [
      "\u001b[96m##########################################\u001b[0m\n",
      "\u001b[96m#######  BFS TREE SEARCH PROBLEM  ########\u001b[0m\n",
      "\u001b[96m##########################################\u001b[0m\n",
      "Solution: [(0, 1), (0, 0), (1, 0), (2, 0), (3, 0), (4, 0), (4, 1), (4, 2), (4, 3)]\n",
      "N° of nodes explored: 103723\n",
      "Max n° of nodes in memory: 77791\n",
      "\n",
      "\u001b[96m##########################################\u001b[0m\n",
      "\u001b[96m#######  BFS Graph SEARCH PROBLEM  #######\u001b[0m\n",
      "\u001b[96m##########################################\u001b[0m\n",
      "Your solution: []\n",
      "N° of nodes explored: 1\n",
      "Max n° of nodes in memory: 1\n",
      "\n",
      "\u001b[91m> The solution is not correct, should be: \n",
      "[(0, 1), (0, 0), (1, 0), (2, 0), (3, 0), (4, 0), (4, 1), (4, 2), (4, 3)]\n",
      "\u001b[0m\n"
     ]
    }
   ],
   "source": [
    "envname = \"SmallMaze-v0\"\n",
    "environment = gym.make(envname)\n",
    "\n",
    "solution_ts, time_ts, memory_ts = BFS_TreeSearch(environment)\n",
    "solution_gs, time_gs, memory_gs = BFS_GraphSearch(environment)\n",
    "\n",
    "results = CheckResult_L1A1([solution_ts, time_ts, memory_ts], [solution_gs, time_gs, memory_gs], environment)\n",
    "results.check_sol_ts()\n",
    "results.check_sol_gs()"
   ]
  },
  {
   "cell_type": "markdown",
   "metadata": {},
   "source": [
    "## Assignment 2:  Depth-Limited Search (DLS) and Iterative Deepening depth-first Search (IDS)\n",
    "\n",
    "Your second assignment is to implement the IDS algorithm on SmallMaze. \n",
    "In particular, you are required to implement *DLS* in the *graph search* version, *DLS* in the *tree search* version, and the final *Iterative_DLS*.\n",
    "\n",
    "Similarly to assignment 1, the results returned by your ids must be in the following form (path, Time Cost, Space Cost) described above. After the correctness of your implementations has been assessed, you can run the algorithms on the **SmallMaze** environment.\n",
    "\n",
    "Functions to implement:\n",
    "\n",
    "- Recursive_DLS_TreeSearch(node, problem, limit)\n",
    "- Recursive_DLS_GraphSearch(node, problem, limit, explored)\n",
    "- IDS(problem)\n",
    "\n",
    "Function **build_path(node)** can be used to return a tuple of states from the root node (excluded) to another node by following parent links.\n",
    "\n",
    "Here is the pseudo-code from the book **Artificial Intelligence: A Modern Approach** for the *Depth-Limited Search (Tree Search Version)* and *Iterative deepening depth-first search (Tree Search Version)*:\n",
    "\n",
    "<img src=\"images/dls.png\" width=\"600\">\n",
    "\n",
    "<img src=\"images/ids.png\" width=\"600\">"
   ]
  },
  {
   "cell_type": "markdown",
   "metadata": {},
   "source": [
    "Note that Node() has a depthcost variable that represents the depth of the node in the search tree. This variable is automatically set by the Node constructor: if the root node has a depthcost of 0, its children will have a depthcost increased by 1. An example is shown below. The depthcost is useful to compute the space cost for IDS. An example is shown below:"
   ]
  },
  {
   "cell_type": "code",
   "execution_count": 5,
   "metadata": {},
   "outputs": [
    {
     "name": "stdout",
     "output_type": "stream",
     "text": [
      "Root depthcost: 0\tChild depthcost: 1\n"
     ]
    }
   ],
   "source": [
    "start = environment.startstate\n",
    "root = Node(start)  # parent = None and depthcost = 0 as default\n",
    "child = Node(environment.sample(start, 0), root) # the depthcost is set automatically in the Node constructor\n",
    "print(\"Root depthcost: {}\\tChild depthcost: {}\".format(root.depthcost, child.depthcost))"
   ]
  },
  {
   "cell_type": "code",
   "execution_count": 6,
   "metadata": {},
   "outputs": [],
   "source": [
    "def DLS(problem, limit, RDLS_Function):\n",
    "    \"\"\"\n",
    "    DLS\n",
    "    \n",
    "    Args:\n",
    "        problem: OpenAI Gym environment\n",
    "        limit: depth limit for the exploration, negative number means 'no limit'\n",
    "        \n",
    "    Returns:\n",
    "        (path, time_cost, space_cost): solution as a path and stats.\n",
    "    \"\"\"\n",
    "        \n",
    "    node = Node(problem.startstate, None)\n",
    "    return RDLS_Function(node, problem, limit, set())"
   ]
  },
  {
   "cell_type": "markdown",
   "metadata": {},
   "source": [
    "**Now have a look at the graph search implementation of DLS and implement the tree search version of the algorithm:**"
   ]
  },
  {
   "cell_type": "code",
   "execution_count": 7,
   "metadata": {},
   "outputs": [],
   "source": [
    "def Recursive_DLS_GraphSearch(node, problem, limit, explored):\n",
    "    \"\"\"\n",
    "    Recursive DLS\n",
    "    \n",
    "    Args:\n",
    "        node: node to explore\n",
    "        problem: OpenAI Gym environment\n",
    "        limit: depth limit for the exploration, negative number means 'no limit'\n",
    "        explored: completely explored nodes\n",
    "        \n",
    "    Returns:\n",
    "        (path, time_cost, space_cost): solution as a path and stats.\n",
    "    \"\"\"\n",
    "    \n",
    "    if problem.goalstate == node.state: # Goal state check\n",
    "        return build_path(node), 1, node.depthcost\n",
    "    elif limit == 0: # Limit budget check for cutoff\n",
    "        return \"cut_off\", 1, node.depthcost\n",
    "    \n",
    "    explored.add(node.state)\n",
    "    space_cost = node.depthcost\n",
    "    time_cost = 1 \n",
    "    \n",
    "    cut_off_occurred = False\n",
    "    for action in range(problem.action_space.n): # Look around\n",
    "        child = Node(problem.sample(node.state, action), node) # Child node\n",
    "        \n",
    "        if child.state in explored: # We add it only if not explored\n",
    "            continue\n",
    "            \n",
    "        result = Recursive_DLS_GraphSearch(child, problem, limit-1, explored) # Recursive call\n",
    "        time_cost += result[1]\n",
    "        space_cost = max(space_cost, result[2])    \n",
    "        \n",
    "        if result[0] == \"cut_off\":\n",
    "            cut_off_occurred = True\n",
    "        elif result[0] != \"failure\": # Solution found\n",
    "            return result[0], time_cost, space_cost\n",
    "        \n",
    "    if cut_off_occurred: # Solution not found but cutoff occurred\n",
    "        return \"cut_off\", time_cost, space_cost\n",
    "    else: # No solution and no cutoff: failure\n",
    "        return \"failure\", time_cost, space_cost"
   ]
  },
  {
   "cell_type": "code",
   "execution_count": 8,
   "metadata": {},
   "outputs": [],
   "source": [
    "def Recursive_DLS_TreeSearch(node, problem, limit, explored=None):\n",
    "    \"\"\"\n",
    "    DLS (Tree Search Version)\n",
    "    \n",
    "    Args:\n",
    "        node: node to explore\n",
    "        problem: OpenAI Gym environment\n",
    "        limit: depth limit for the exploration, negative number means 'no limit'\n",
    "        \n",
    "    Returns:\n",
    "        (path, time_cost, space_cost): solution as a path and stats.\n",
    "    \"\"\"\n",
    "    \n",
    "    #\n",
    "    # YOUR CODE HERE ...\n",
    "    #\n",
    "    space_cost = node.depthcost\n",
    "    time_cost = 1 \n",
    "    #\n",
    "    # YOUR CODE HERE ...\n",
    "    #\n",
    "    return result[0], time_cost, space_cost\n",
    "    return \"cut_off\", time_cost, space_cost\n",
    "    return \"failure\", time_cost, space_cost"
   ]
  },
  {
   "cell_type": "code",
   "execution_count": 9,
   "metadata": {},
   "outputs": [],
   "source": [
    "def IDS(problem, DLS_Function):\n",
    "    \"\"\"\n",
    "    Iteartive_DLS DLS\n",
    "    \n",
    "    Args:\n",
    "        problem: OpenAI Gym environment\n",
    "        \n",
    "    Returns:\n",
    "        (path, time_cost, space_cost): solution as a path and stats.\n",
    "    \"\"\"\n",
    "        \n",
    "    total_time_cost = 0\n",
    "    total_space_cost = 1\n",
    "    for i in zero_to_infinity():\n",
    "        #\n",
    "        # YOUR CODE HERE ...\n",
    "        #\n",
    "        return 0, 0, 0, 0 # Placeholder\n",
    "    return solution_dls, total_time_cost, total_space_cost, i"
   ]
  },
  {
   "cell_type": "markdown",
   "metadata": {},
   "source": [
    "The following code calls your version of IDS and checks the results:"
   ]
  },
  {
   "cell_type": "code",
   "execution_count": 10,
   "metadata": {},
   "outputs": [
    {
     "name": "stdout",
     "output_type": "stream",
     "text": [
      "\u001b[96m##########################################\u001b[0m\n",
      "\u001b[96m#######  IDS TREE SEARCH PROBLEM  ########\u001b[0m\n",
      "\u001b[96m##########################################\u001b[0m\n",
      "Necessary Iterations: 9\n",
      "Your solution: [(0, 1), (0, 0), (1, 0), (2, 0), (3, 0), (4, 0), (4, 1), (4, 2), (4, 3)]\n",
      "N° of nodes explored: 138298\n",
      "Max n° of nodes in memory: 9\n",
      "\n",
      "\u001b[1m\u001b[92m===> Your solution is correct!\n",
      "\u001b[0m\n",
      "\u001b[96m##########################################\u001b[0m\n",
      "\u001b[96m#######  IDS GRAPH SEARCH PROBLEM  #######\u001b[0m\n",
      "\u001b[96m##########################################\u001b[0m\n",
      "Necessary Iterations: 11\n",
      "Solution: [(0, 1), (0, 0), (1, 0), (1, 1), (2, 1), (2, 0), (3, 0), (4, 0), (4, 1), (4, 2), (4, 3)]\n",
      "N° of nodes explored: 132\n",
      "Max n° of nodes in memory: 11\n",
      "\n"
     ]
    }
   ],
   "source": [
    "envname = \"SmallMaze-v0\"\n",
    "environment = gym.make(envname)\n",
    "\n",
    "solution_ts, time_ts, memory_ts, iterations_ts = IDS(environment, Recursive_DLS_TreeSearch)\n",
    "solution_gs, time_gs, memory_gs, iterations_gs = IDS(environment, Recursive_DLS_GraphSearch)\n",
    "\n",
    "results = CheckResult_L1A2([solution_ts, time_ts, memory_ts, iterations_ts], [solution_gs, time_gs, memory_gs, iterations_gs], environment)\n",
    "results.check_sol_gs()\n",
    "results.check_sol_ts()"
   ]
  },
  {
   "cell_type": "markdown",
   "metadata": {},
   "source": [
    "#### Discussion\n",
    "\n",
    "Now that you have correctly implemented both BFS and IDS what can you say about the solutions they compute? Are there significant differences in the stats?"
   ]
  },
  {
   "cell_type": "markdown",
   "metadata": {},
   "source": [
    "# Informed Search\n",
    "We will work again on the **SmallMaze** environment.\n",
    "\n",
    "### Priority Queue\n",
    "\n",
    "You will need a queue ordered by priority as a queue or **PriorityQueue**. The difference between the other versions of the queue is that in **PriorityQueue**, nodes are removed from the data structure based on the current lowest value. In particular, **Node** has two useful parameters (other than those used in the previous session):\n",
    "\n",
    "- pathcost - the path cost from the root node to the current one (defaults to 0)\n",
    "- value - the value of a node. Used by PriorityQueue to order its content (defaults to 0)\n",
    "\n",
    "#### Here is an example of usage (notice the order in which nodes are removed from the queue): "
   ]
  },
  {
   "cell_type": "code",
   "execution_count": 11,
   "metadata": {},
   "outputs": [
    {
     "name": "stdout",
     "output_type": "stream",
     "text": [
      "Added: 1\n",
      "Added: 2\n",
      "Added: 3\n",
      "Removed: 1\n",
      "Removed: 3\n",
      "Removed: 2\n"
     ]
    }
   ],
   "source": [
    "import os\n",
    "import sys\n",
    "module_path = os.path.abspath(os.path.join('../tools'))\n",
    "if module_path not in sys.path:\n",
    "    sys.path.append(module_path)\n",
    "\n",
    "from utils.ai_lab_functions import *\n",
    "\n",
    "# Create 3 nodes for state ids 1 2 3\n",
    "node_1 = Node(1) # No parent, pathcost=0, value=0\n",
    "node_2 = Node(2, node_1, node_1.pathcost + 1, 10) # Child of node_1, pathcost=1, value=10\n",
    "node_3 = Node(3, node_1, 100, 5)  # Child of node_1, pathcost=100, value=5\n",
    "\n",
    "p_queue = PriorityQueue()\n",
    "for n in (node_1, node_2, node_3):\n",
    "    p_queue.add(n)\n",
    "    print(\"Added: {}\".format(n.state))\n",
    "\n",
    "while not p_queue.is_empty():\n",
    "    print(\"Removed: {}\".format(p_queue.remove().state))"
   ]
  },
  {
   "cell_type": "markdown",
   "metadata": {},
   "source": [
    "### Uniform-Cost Search (UCS)\n",
    "Before moving to informed search, it is useful to see another uninformed search algorithm: the Uniform-Cost Search (UCS). You can see the implementation in the *graph search* version in the following. The cost of performing an action is supposed to be 1 (also in the assignments)."
   ]
  },
  {
   "cell_type": "code",
   "execution_count": 12,
   "metadata": {},
   "outputs": [],
   "source": [
    "def present_with_higher_cost(queue, node):\n",
    "    if node.state in queue:\n",
    "        if queue[node.state].value > node.value: \n",
    "            return True\n",
    "    return False"
   ]
  },
  {
   "cell_type": "code",
   "execution_count": 13,
   "metadata": {},
   "outputs": [],
   "source": [
    "import gym\n",
    "import envs\n",
    "\n",
    "def ucs(environment):\n",
    "    \"\"\"\n",
    "    Uniform-cost search\n",
    "    \n",
    "    Args:\n",
    "        environment: OpenAI Gym environment\n",
    "        \n",
    "    Returns:\n",
    "        path: solution as a path\n",
    "    \"\"\"\n",
    "    \n",
    "    queue = PriorityQueue()\n",
    "    queue.add(Node(environment.startstate))\n",
    "    \n",
    "    explored = set()\n",
    "    time_cost = 1\n",
    "    space_cost = 1\n",
    "    \n",
    "    while True:\n",
    "        if queue.is_empty(): \n",
    "            return None\n",
    "        \n",
    "        # Retrieve node from the queue\n",
    "        node = queue.remove()  \n",
    "        if node.state == environment.goalstate: \n",
    "            return build_path(node), time_cost, space_cost\n",
    "        \n",
    "        explored.add(node.state)\n",
    "        \n",
    "        # Look around\n",
    "        for action in range(environment.action_space.n):\n",
    "            \n",
    "            # Child node where value and pathcost are both the pathcost of parent + 1\n",
    "            child = Node(environment.sample(node.state, action), node, node.pathcost + 1, node.pathcost + 1)  \n",
    "            time_cost += 1\n",
    "            \n",
    "            if child.state not in queue and child.state not in explored:\n",
    "                queue.add(child)\n",
    "                \n",
    "            elif present_with_higher_cost(queue, child):\n",
    "                queue.replace(child)\n",
    "                \n",
    "        space_cost = max(space_cost, len(queue) + len(explored))\n"
   ]
  },
  {
   "cell_type": "markdown",
   "metadata": {},
   "source": [
    "#### Let's see the results:"
   ]
  },
  {
   "cell_type": "code",
   "execution_count": 14,
   "metadata": {},
   "outputs": [
    {
     "name": "stdout",
     "output_type": "stream",
     "text": [
      "[['C' 'C' 'S' 'C']\n",
      " ['C' 'C' 'W' 'C']\n",
      " ['C' 'C' 'C' 'C']\n",
      " ['C' 'W' 'W' 'W']\n",
      " ['C' 'C' 'C' 'G']]\n",
      "\n",
      "\u001b[96m##########################################\u001b[0m\n",
      "\u001b[96m#####  UNIFORM GRAPH SEARCH PROBLEM  #####\u001b[0m\n",
      "\u001b[96m##########################################\u001b[0m\n",
      "Solution: [(0, 1), (0, 0), (1, 0), (2, 0), (3, 0), (4, 0), (4, 1), (4, 2), (4, 3)]\n",
      "N° of nodes explored: 61\n",
      "Max n° of nodes in memory: 16\n"
     ]
    }
   ],
   "source": [
    "# Create and render the environment\n",
    "env = gym.make(\"SmallMaze-v0\")\n",
    "env.render()\n",
    "solution, time, memory = ucs(env)\n",
    "\n",
    "CheckResult_UCS(solution, time, memory, env)"
   ]
  },
  {
   "cell_type": "markdown",
   "metadata": {},
   "source": [
    "### Distance Heuristics\n",
    "\n",
    "Informed search requires a distance heuristic to estimate the distance between a state and the goal. You already have at your disposal these functions:\n",
    "\n",
    "- *l1_norm(p1, p2)* - Computes the L1 norm (also known as the manhattan distance) between two points specified as tuples of coordinates.\n",
    "- *l2_norm(p1, p2)* - Computes the L2 norm between two points specified as tuples of coordinates.\n",
    "- *chebyshev(p1, p2)* - Computes the Chebyshev distance between two points specified as tuples of coordinates. Similar to the L1 norm but diagonal moves are also considered.\n",
    "\n",
    "\n",
    "**Examples:**"
   ]
  },
  {
   "cell_type": "code",
   "execution_count": 15,
   "metadata": {},
   "outputs": [
    {
     "name": "stdout",
     "output_type": "stream",
     "text": [
      "L1 norm heuristic value: 6\n",
      "L2 norm heuristic value: 4.47213595499958\n",
      "Chebyshev heuristic value: 4\n"
     ]
    }
   ],
   "source": [
    "p1 = (0, 2)\n",
    "p2 = (4, 0)\n",
    "print(\"L1 norm heuristic value: {}\".format(Heu.l1_norm(p1, p2)))\n",
    "print(\"L2 norm heuristic value: {}\".format(Heu.l2_norm(p1, p2)))\n",
    "print(\"Chebyshev heuristic value: {}\".format(Heu.chebyshev(p1, p2)))"
   ]
  },
  {
   "cell_type": "markdown",
   "metadata": {},
   "source": [
    "## Assignment 3: Greedy Best-First Search\n",
    "\n",
    "The first assignment is to implement the Greedy-best-first search algorithm on **SmallMaze**. In particular, you have to implement both *greedy_tree_search* and *greedy_graph_search* versions that will be called by the generic *greedy*. Use the L1 norm as a heuristic function first, then try the others to see the differences.\n",
    "\n",
    "The results returned by greedy must be in the following form (path, time_cost, space_cost), more in detail:\n",
    "\n",
    "- **path** - a tuple of state identifiers forming a path from the start state to the goal state. None if no solution is found.\n",
    "- **time_cost** - the number of nodes checked during the exploration.\n",
    "- **space_cost** - the maximum number of nodes in memory simultaneously.\n"
   ]
  },
  {
   "cell_type": "markdown",
   "metadata": {},
   "source": [
    "### Functions to implement:\n",
    "- *greedy_tree_search(environment)*\n",
    "- *greedy_graph_search(environment)*"
   ]
  },
  {
   "cell_type": "code",
   "execution_count": 16,
   "metadata": {},
   "outputs": [],
   "source": [
    "def greedy_tree_search(environment, timeout=10000):\n",
    "    \"\"\"\n",
    "    Greedy-best-first Tree search\n",
    "    \n",
    "    Args:\n",
    "        problem: OpenAI Gym environment\n",
    "        \n",
    "    Returns:\n",
    "        (path, time_cost, space_cost): solution as a path and stats.\n",
    "    \"\"\"\n",
    "\n",
    "    goalpos = environment.state_to_pos(environment.goalstate)\n",
    "    queue = PriorityQueue()\n",
    "    #\n",
    "    # YOUR CODE HERE ...\n",
    "    #\n",
    "    time_cost = 1\n",
    "    space_cost = 1\n",
    "    #\n",
    "    # YOUR CODE HERE ...\n",
    "    #\n",
    "    while True:\n",
    "        if time_cost >= timeout: return (\"time-out\", time_cost, space_cost) # timeout check\n",
    "        #\n",
    "        # YOUR CODE HERE ...\n",
    "        #\n",
    "        return None, time_cost, space_cost"
   ]
  },
  {
   "cell_type": "code",
   "execution_count": 17,
   "metadata": {},
   "outputs": [],
   "source": [
    "def greedy_graph_search(environment):\n",
    "    \"\"\"\n",
    "    Greedy-best-first Graph search\n",
    "    \n",
    "    Args:\n",
    "        problem: OpenAI Gym environment\n",
    "        \n",
    "    Returns:\n",
    "        (path, time_cost, space_cost): solution as a path and stats.\n",
    "    \"\"\"\n",
    "    \n",
    "    #\n",
    "    # YOUR CODE HERE ...\n",
    "    #\n",
    "    explored = set()\n",
    "    time_cost = 1\n",
    "    space_cost = 1\n",
    "    #\n",
    "    # YOUR CODE HERE ...\n",
    "    #\n",
    "    return None, time_cost, space_cost"
   ]
  },
  {
   "cell_type": "markdown",
   "metadata": {},
   "source": [
    "**The following function calls your implementations of greedy_tree_search and greedy_graph_search:**"
   ]
  },
  {
   "cell_type": "code",
   "execution_count": 18,
   "metadata": {},
   "outputs": [],
   "source": [
    "def greedy(environment, search_type):\n",
    "    \"\"\"\n",
    "    Greedy-best-first search\n",
    "    \n",
    "    Args:\n",
    "        problem: OpenAI Gym environment\n",
    "        search_type: type of search - greedy_tree_search or greedy_graph_search (function pointer)\n",
    "        \n",
    "    Returns:\n",
    "        (path, time_cost, space_cost): solution as a path and stats.\n",
    "    \"\"\"\n",
    "    \n",
    "    path, time_cost, space_cost = search_type(environment)\n",
    "    return path, time_cost, space_cost"
   ]
  },
  {
   "cell_type": "markdown",
   "metadata": {},
   "source": [
    "**The following code calls your *tree search* and *graph search* version of Greedy-best-first search and checks the results:**"
   ]
  },
  {
   "cell_type": "code",
   "execution_count": null,
   "metadata": {},
   "outputs": [],
   "source": [
    "envname = \"SmallMaze-v0\"\n",
    "environment = gym.make(envname)\n",
    "\n",
    "solution_ts, time_ts, memory_ts = greedy(environment, greedy_tree_search)\n",
    "solution_gs, time_gs, memory_gs = greedy(environment, greedy_graph_search)\n",
    "heuristic = str(input('Which heuristic did you use? (l1_norm, l2_norm, chebyshev)\\n'))\n",
    "\n",
    "results = CheckResult_L2A1([solution_ts, time_ts, memory_ts], [solution_gs, time_gs, memory_gs], heuristic, env)\n",
    "results.check_sol_ts()\n",
    "results.check_sol_gs()"
   ]
  },
  {
   "cell_type": "markdown",
   "metadata": {},
   "source": [
    "## Assignment 4: A* Search\n",
    "The second assignment is to implement the A search algorithm on SmallMaze. In particular, you have to implement both astar_tree_search and astar_graph_search versions that the generic astar will call. Use the L1 norm* as a heuristic function first, then try the others to see the differences.\n",
    "\n",
    "The results returned by astar must be in the following form (path, time_cost, space_cost), more in detail:\n",
    "\n",
    "- **path** - a tuple of state identifiers forming a path from the start state to the goal state. None if no solution is found.\n",
    "- **time_cost** - the number of nodes checked during the exploration.\n",
    "- **space_cost** - the maximum number of nodes in memory simultaneously.\n",
    "\n",
    "Functions to implement:\n",
    "- *astar_tree_search(environment)*\n",
    "- *astar_graph_search(environment)*"
   ]
  },
  {
   "cell_type": "code",
   "execution_count": null,
   "metadata": {},
   "outputs": [],
   "source": [
    "def astar_tree_search(environment):\n",
    "    \"\"\"\n",
    "    A* Tree search\n",
    "    \n",
    "    Args:\n",
    "        problem: OpenAI Gym environment\n",
    "        \n",
    "    Returns:\n",
    "        (path, time_cost, space_cost): solution as a path and stats.\n",
    "    \"\"\"\n",
    "\n",
    "    goalpos = environment.state_to_pos(environment.goalstate)\n",
    "    queue = PriorityQueue()\n",
    "    #\n",
    "    # YOUR CODE HERE ...\n",
    "    #    \n",
    "    time_cost = 1\n",
    "    space_cost = 1\n",
    "    #\n",
    "    # YOUR CODE HERE ...\n",
    "    #\n",
    "    return None, time_cost, space_cost"
   ]
  },
  {
   "cell_type": "code",
   "execution_count": null,
   "metadata": {},
   "outputs": [],
   "source": [
    "def astar_graph_search(environment):\n",
    "    \"\"\"\n",
    "    A* Graph Search\n",
    "    \n",
    "    Args:\n",
    "        problem: OpenAI Gym environment\n",
    "        \n",
    "    Returns:\n",
    "        (path, time_cost, space_cost): solution as a path and stats.\n",
    "    \"\"\"\n",
    "    \n",
    "    #\n",
    "    # YOUR CODE HERE ...\n",
    "    #\n",
    "    explored = set()\n",
    "    time_cost = 1\n",
    "    space_cost = 1\n",
    "    #\n",
    "    # YOUR CODE HERE ...\n",
    "    #\n",
    "    return None, time_cost, space_cost"
   ]
  },
  {
   "cell_type": "markdown",
   "metadata": {},
   "source": [
    "**The following function calls your implementations of astar_tree_search and astar_graph_search:**"
   ]
  },
  {
   "cell_type": "code",
   "execution_count": null,
   "metadata": {},
   "outputs": [],
   "source": [
    "def astar(environment, search_type):\n",
    "    \"\"\"\n",
    "    A* search\n",
    "    \n",
    "    Args:\n",
    "        environment: OpenAI Gym environment\n",
    "        search_type: type of search - astar_tree_search or astar_graph_search (function pointer)\n",
    "        \n",
    "    Returns:\n",
    "        (path, time_cost, space_cost): solution as a path and stats.\n",
    "    \"\"\"\n",
    "    \n",
    "    path, time_cost, space_cost = search_type(environment)\n",
    "    return path, time_cost, space_cost"
   ]
  },
  {
   "cell_type": "markdown",
   "metadata": {},
   "source": [
    "**The following code calls your *tree search* and *graph search* version of A\\* search and checks the results:**"
   ]
  },
  {
   "cell_type": "code",
   "execution_count": null,
   "metadata": {},
   "outputs": [],
   "source": [
    "envname = \"SmallMaze-v0\"\n",
    "environment = gym.make(envname)\n",
    "\n",
    "solution_ts, time_ts, memory_ts = astar(environment, astar_tree_search)\n",
    "solution_gs, time_gs, memory_gs = astar(environment, astar_graph_search)\n",
    "heuristic = str(input('Which heuristic did you use? (l1_norm, l2_norm, chebyshev)\\n'))\n",
    "\n",
    "results = CheckResult_L2A2([solution_ts, time_ts, memory_ts], [solution_gs, time_gs, memory_gs], heuristic, env)\n",
    "results.check_sol_ts()\n",
    "results.check_sol_gs()"
   ]
  },
  {
   "cell_type": "markdown",
   "metadata": {},
   "source": [
    "### Discussion\n",
    "Now that you have correctly implemented both Greedy-best-first and A* what can you say about the solutions they compute? Are there significant differences in the stats? Try to play with other heuristics as well and see if your results change."
   ]
  }
 ],
 "metadata": {
  "kernelspec": {
   "display_name": "Python 3 (ipykernel)",
   "language": "python",
   "name": "python3"
  },
  "language_info": {
   "codemirror_mode": {
    "name": "ipython",
    "version": 3
   },
   "file_extension": ".py",
   "mimetype": "text/x-python",
   "name": "python",
   "nbconvert_exporter": "python",
   "pygments_lexer": "ipython3",
   "version": "3.7.3"
  }
 },
 "nbformat": 4,
 "nbformat_minor": 4
}
